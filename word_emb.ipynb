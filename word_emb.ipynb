{
  "nbformat": 4,
  "nbformat_minor": 0,
  "metadata": {
    "colab": {
      "provenance": [],
      "authorship_tag": "ABX9TyNH9tUR0o9Vv6rKjCwtnZ4Z",
      "include_colab_link": true
    },
    "kernelspec": {
      "name": "python3",
      "display_name": "Python 3"
    },
    "language_info": {
      "name": "python"
    }
  },
  "cells": [
    {
      "cell_type": "markdown",
      "metadata": {
        "id": "view-in-github",
        "colab_type": "text"
      },
      "source": [
        "<a href=\"https://colab.research.google.com/github/Chaimae-El-beqqal/NLP/blob/main/word_emb.ipynb\" target=\"_parent\"><img src=\"https://colab.research.google.com/assets/colab-badge.svg\" alt=\"Open In Colab\"/></a>"
      ]
    },
    {
      "cell_type": "code",
      "execution_count": 6,
      "metadata": {
        "colab": {
          "base_uri": "https://localhost:8080/"
        },
        "id": "yTIBEvnRS4vC",
        "outputId": "200459a8-e4b0-48fd-b4b2-2dafa5e1fbd2"
      },
      "outputs": [
        {
          "output_type": "stream",
          "name": "stdout",
          "text": [
            "Requirement already satisfied: nltk in /usr/local/lib/python3.10/dist-packages (3.8.1)\n",
            "Requirement already satisfied: click in /usr/local/lib/python3.10/dist-packages (from nltk) (8.1.7)\n",
            "Requirement already satisfied: joblib in /usr/local/lib/python3.10/dist-packages (from nltk) (1.3.2)\n",
            "Requirement already satisfied: regex>=2021.8.3 in /usr/local/lib/python3.10/dist-packages (from nltk) (2023.6.3)\n",
            "Requirement already satisfied: tqdm in /usr/local/lib/python3.10/dist-packages (from nltk) (4.66.1)\n",
            "Requirement already satisfied: gensim in /usr/local/lib/python3.10/dist-packages (4.3.2)\n",
            "Requirement already satisfied: numpy>=1.18.5 in /usr/local/lib/python3.10/dist-packages (from gensim) (1.23.5)\n",
            "Requirement already satisfied: scipy>=1.7.0 in /usr/local/lib/python3.10/dist-packages (from gensim) (1.11.3)\n",
            "Requirement already satisfied: smart-open>=1.8.1 in /usr/local/lib/python3.10/dist-packages (from gensim) (6.4.0)\n"
          ]
        }
      ],
      "source": [
        "!pip install nltk\n",
        "!pip install gensim"
      ]
    },
    {
      "cell_type": "markdown",
      "source": [],
      "metadata": {
        "id": "jTewLJLaTEBd"
      }
    },
    {
      "cell_type": "code",
      "source": [
        "\n",
        "# importing all necessary modules\n",
        "from nltk.tokenize import sent_tokenize, word_tokenize\n",
        "\n",
        "import gensim\n",
        "from gensim.models import Word2Vec\n",
        "\n",
        "# Reads the file\n",
        "sample = open(\"/content/text\", \"r\", encoding=\"utf-8\")\n",
        "\n",
        "s = sample.read()"
      ],
      "metadata": {
        "id": "I0PGyLBMTq19"
      },
      "execution_count": 8,
      "outputs": []
    },
    {
      "cell_type": "code",
      "source": [
        "import nltk\n",
        "nltk.download('punkt')\n",
        ""
      ],
      "metadata": {
        "colab": {
          "base_uri": "https://localhost:8080/"
        },
        "id": "S0odW3r9Xp4a",
        "outputId": "5e2ca593-8f3d-43d6-c86c-dbf8494ef6f1"
      },
      "execution_count": 10,
      "outputs": [
        {
          "output_type": "stream",
          "name": "stderr",
          "text": [
            "[nltk_data] Downloading package punkt to /root/nltk_data...\n",
            "[nltk_data]   Unzipping tokenizers/punkt.zip.\n"
          ]
        },
        {
          "output_type": "execute_result",
          "data": {
            "text/plain": [
              "True"
            ]
          },
          "metadata": {},
          "execution_count": 10
        }
      ]
    },
    {
      "cell_type": "code",
      "source": [
        "# Replaces escape character with space\n",
        "f = s.replace(\"\\n\", \" \")\n",
        "\n",
        "data = []\n",
        "\n",
        "# iterate through each sentence in the file\n",
        "for i in sent_tokenize(f):\n",
        "\ttemp = []\n",
        "\n",
        "\t# tokenize the sentence into words\n",
        "\tfor j in word_tokenize(i):\n",
        "\t\ttemp.append(j.lower())\n",
        "\n",
        "\tdata.append(temp)\n",
        "\n",
        "# Create CBOW model\n",
        "model1 = gensim.models.Word2Vec(data, min_count = 1,\n",
        "\t\t\t\t\t\t\tvector_size = 100, window = 5)\n",
        "\n",
        "\n",
        "\n",
        "# Create Skip Gram model\n",
        "model2 = gensim.models.Word2Vec(data, min_count = 1, vector_size = 100,\n",
        "\t\t\t\t\t\t\t\t\t\t\twindow = 5, sg = 1)\n",
        "\n"
      ],
      "metadata": {
        "colab": {
          "base_uri": "https://localhost:8080/"
        },
        "id": "cd3BXBJGWfk5",
        "outputId": "c67396a7-1d9e-4a72-9b8c-77179a03c26f"
      },
      "execution_count": 15,
      "outputs": [
        {
          "output_type": "stream",
          "name": "stdout",
          "text": [
            "similarity between 'Morocco' and 'Africa' - CBOW :  0.08882762\n",
            "similarity between 'modernity' and 'tradition' - CBOW :  -0.010400433\n",
            "similarity between 'Morocco' and 'Africa' - Skip Gram :  0.123809\n",
            "similarity between 'tradition' and 'modernity' - Skip Gram :  0.03706448\n"
          ]
        }
      ]
    },
    {
      "cell_type": "code",
      "source": [
        "# 1 - la représentation vectorielle du mot \"africa\"\n",
        "africa = model1.wv.get_vector(\"africa\")\n",
        "\n",
        "# Affichez la représentation vectorielle\n",
        "print(\"Représentation vectorielle du mot 'africa' :\", africa)"
      ],
      "metadata": {
        "colab": {
          "base_uri": "https://localhost:8080/"
        },
        "id": "fL_b6ZaJaZqE",
        "outputId": "5af6f3f1-6ea6-4548-9ed5-28d2d38302dc"
      },
      "execution_count": 17,
      "outputs": [
        {
          "output_type": "stream",
          "name": "stdout",
          "text": [
            "Représentation vectorielle du mot 'africa' : [ 7.8685973e-03 -6.6871038e-03  3.6889545e-04  3.1943012e-03\n",
            " -2.0610767e-03  9.3567073e-03 -3.5901235e-03  3.9431304e-03\n",
            "  7.3805065e-03  4.0160334e-03 -2.7148924e-03 -7.9352045e-03\n",
            " -5.7724179e-03  1.5220180e-03 -3.6715935e-03 -7.1326247e-03\n",
            "  7.4913246e-03  4.0530995e-03  2.3329861e-03 -6.8194699e-04\n",
            "  4.3022386e-03 -8.8589722e-03 -5.5788425e-03 -5.6279483e-03\n",
            "  3.4757552e-03 -2.1699229e-03 -7.3745670e-03 -7.1603097e-03\n",
            "  6.9910479e-03 -3.3378161e-03 -3.5703895e-03  1.0064778e-02\n",
            " -9.3335105e-04 -5.6704553e-03  2.4964705e-03  1.6044009e-03\n",
            " -6.5404996e-03 -9.9758720e-03  2.2479962e-03  8.7703569e-03\n",
            " -5.5865487e-03  6.7213434e-03 -3.9229257e-04 -8.4499307e-03\n",
            "  6.4679729e-03 -6.7531350e-03 -2.9590810e-03  1.7818888e-03\n",
            "  3.2939206e-04 -6.7743887e-03 -5.6657600e-03 -3.6442638e-03\n",
            "  7.6890164e-03  5.7095322e-03  1.0868976e-03  3.8450276e-03\n",
            "  1.4328039e-03  2.8089317e-03 -2.0388139e-03 -9.1366330e-03\n",
            "  6.6606398e-03 -5.7708672e-03  2.3551853e-03 -7.6649147e-03\n",
            " -1.8939233e-03  1.2969419e-03  1.3122277e-03  5.0590755e-03\n",
            "  8.8108648e-03 -2.3993195e-04 -2.4783923e-03  6.1715567e-03\n",
            " -5.6850947e-03 -8.4976600e-03  5.6843287e-03 -6.9796778e-03\n",
            "  1.4478698e-03 -8.7183397e-03  9.2088198e-04 -1.8349005e-03\n",
            "  9.4563663e-03 -6.0275872e-03 -2.8174089e-03  8.6466623e-03\n",
            " -3.1704621e-03 -6.9379122e-03  2.7409678e-03  6.2195798e-03\n",
            " -2.0193836e-05 -8.7417187e-03  1.7173438e-03 -5.1331180e-03\n",
            " -1.3545775e-03 -3.1278993e-03  7.0141223e-03  8.2859816e-03\n",
            " -9.7805159e-03  9.1584716e-03  9.2532840e-03  3.0757529e-03]\n"
          ]
        }
      ]
    },
    {
      "cell_type": "code",
      "source": [
        "# 2- Calculer la similarité entre deux mots : CBOW\n",
        "print(\"similarity between 'Morocco' \" +\n",
        "\t\t\t\"and 'Africa' - CBOW : \",\n",
        "\tmodel1.wv.similarity('morocco', 'africa'))\n",
        "\n",
        "print(\"similarity between 'modernity' \" +\n",
        "\t\t\t\t\"and 'tradition' - CBOW : \",\n",
        "\tmodel1.wv.similarity('modernity', 'tradition'))"
      ],
      "metadata": {
        "colab": {
          "base_uri": "https://localhost:8080/"
        },
        "id": "KI-wbM5Fa5Db",
        "outputId": "7ba8ef78-3ff0-4fdb-9447-f3e3b71a10da"
      },
      "execution_count": 18,
      "outputs": [
        {
          "output_type": "stream",
          "name": "stdout",
          "text": [
            "similarity between 'Morocco' and 'Africa' - CBOW :  0.08882762\n",
            "similarity between 'modernity' and 'tradition' - CBOW :  -0.010400433\n"
          ]
        }
      ]
    },
    {
      "cell_type": "code",
      "source": [
        "# Calculer la similarité entre deux mots : Skip Gram\n",
        "print(\"similarity between 'Morocco' \" +\n",
        "\t\t\"and 'Africa' - Skip Gram : \",\n",
        "\tmodel2.wv.similarity('morocco', 'africa'))\n",
        "\n",
        "print(\"similarity between 'tradition' \" +\n",
        "\t\t\t\"and 'modernity' - Skip Gram : \",\n",
        "\tmodel2.wv.similarity('tradition', 'modernity'))\n"
      ],
      "metadata": {
        "colab": {
          "base_uri": "https://localhost:8080/"
        },
        "id": "8X2lOYoJbLgC",
        "outputId": "a3fce99d-7dcb-43f2-d465-80fad42b4105"
      },
      "execution_count": 19,
      "outputs": [
        {
          "output_type": "stream",
          "name": "stdout",
          "text": [
            "similarity between 'Morocco' and 'Africa' - Skip Gram :  0.123809\n",
            "similarity between 'tradition' and 'modernity' - Skip Gram :  0.03706448\n"
          ]
        }
      ]
    },
    {
      "cell_type": "code",
      "source": [
        "# 3- Extraire les mots contextuels (les plus similaires) pour un mot central donné\n",
        "print(\" les mots contextuels CBOW : Africa\",\n",
        "\tmodel1.wv.most_similar('africa'))\n",
        "\n",
        "print(\" les mots contextuels Skip gram : Africa\",\n",
        "\tmodel2.wv.most_similar('africa'))"
      ],
      "metadata": {
        "colab": {
          "base_uri": "https://localhost:8080/"
        },
        "id": "6N2vHbX4b0U4",
        "outputId": "d6222be1-e708-4ff8-9745-9e4a2197a2fa"
      },
      "execution_count": 20,
      "outputs": [
        {
          "output_type": "stream",
          "name": "stdout",
          "text": [
            " les mots contextuels CBOW : Africa [('destination', 0.26133620738983154), ('enthralling', 0.21219608187675476), ('would', 0.20996716618537903), ('has', 0.18675141036510468), ('buildings', 0.17888623476028442), ('routes', 0.17750179767608643), ('designer', 0.16935963928699493), ('north', 0.1654636710882187), ('restored', 0.1522807627916336), ('accents', 0.14958347380161285)]\n",
            " les mots contextuels Skip gram : Africa [('destination', 0.27798476815223694), ('enthralling', 0.2345207780599594), ('would', 0.21541564166545868), ('has', 0.21466724574565887), ('routes', 0.204874649643898), ('north', 0.19999997317790985), ('buildings', 0.19106338918209076), ('designer', 0.18510350584983826), ('flavors', 0.1675530970096588), ('tapestry', 0.1627216935157776)]\n"
          ]
        }
      ]
    }
  ]
}